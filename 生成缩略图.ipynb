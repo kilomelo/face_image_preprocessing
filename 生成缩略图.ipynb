{
 "cells": [
  {
   "cell_type": "code",
   "execution_count": 27,
   "metadata": {},
   "outputs": [
    {
     "name": "stdout",
     "output_type": "stream",
     "text": [
      "开始处理...\n",
      "Directory does not exist: /path/to/your/directory\n"
     ]
    }
   ],
   "source": [
    "import os\n",
    "import shutil\n",
    "from pathlib import Path\n",
    "from PIL import Image\n",
    "from tqdm import tqdm\n",
    "import errno\n",
    "import stat\n",
    "\n",
    "def handle_remove_readonly(func, path, exc):\n",
    "    exc_value = exc[1]\n",
    "    if exc_value.errno == errno.ENOENT:\n",
    "        pass\n",
    "    elif exc_value.errno == errno.EACCES:\n",
    "        os.chmod(path, stat.S_IWUSR)\n",
    "        func(path)\n",
    "    else:\n",
    "        raise\n",
    "\n",
    "def decimal_to_custom_base(n):\n",
    "    \"\"\"Converts a decimal number to a base-25 string using a custom non-confusing character set.\"\"\"\n",
    "    characters = 'acdefhjkmnpqrtuvwxyz23478'\n",
    "    base = len(characters)\n",
    "    if n == 0:\n",
    "        return characters[0]\n",
    "    result = \"\"\n",
    "    while n > 0:\n",
    "        n, remainder = divmod(n, base)\n",
    "        result = characters[remainder] + result\n",
    "    return result\n",
    "\n",
    "def human_readable_size(size):\n",
    "    \"\"\"Converts bytes to a more human-readable format.\"\"\"\n",
    "    if size < 1024:\n",
    "        return f\"{size} B\"\n",
    "    elif size < 1024 ** 2:\n",
    "        return f\"{size / 1024:.2f} KB\"\n",
    "    elif size < 1024 ** 3:\n",
    "        return f\"{size / (1024 ** 2):.2f} MB\"\n",
    "    else:\n",
    "        return f\"{size / (1024 ** 3):.2f} GB\"\n",
    "\n",
    "def resize(directory, grayscale=True):\n",
    "    \"\"\"Resizes all images in a directory to 256x256, converts them to grayscale, and renames them using a base-25 encoding.\"\"\"\n",
    "    image_extensions = ['.jpg', '.jpeg', '.png', '.gif', '.bmp']\n",
    "    successful_files = set()\n",
    "    failed_counter = 0\n",
    "\n",
    "    target_dir = Path(directory)\n",
    "    thumbnail_dir = target_dir / \"thumbnail\"\n",
    "    if not target_dir.is_dir():\n",
    "        tqdm.write(f\"Directory does not exist: {directory}\")\n",
    "        return\n",
    "\n",
    "    if thumbnail_dir.exists():\n",
    "        tqdm.write(f\"Deleting existing thumbnail directory: {thumbnail_dir}\")\n",
    "        shutil.rmtree(thumbnail_dir, onexc=handle_remove_readonly)\n",
    "    thumbnail_dir.mkdir(parents=True, exist_ok=True)\n",
    "\n",
    "    # Collect all images and calculate total size\n",
    "    total_size = 0\n",
    "    image_paths = []\n",
    "    for root, dirs, files in os.walk(directory):\n",
    "        for name in files:\n",
    "            if any(name.lower().endswith(ext) for ext in image_extensions):\n",
    "                path = Path(root) / name\n",
    "                image_paths.append(path)\n",
    "\n",
    "    progress = tqdm(image_paths, desc=\"Scanning folders\")\n",
    "    images = []\n",
    "    for path in progress:\n",
    "        file_size = path.stat().st_size\n",
    "        total_size += file_size\n",
    "        images.append(path)\n",
    "        progress.set_description(f\"Collected {len(images)} images, total size: {human_readable_size(total_size)}\")\n",
    "\n",
    "    tqdm.write(f\"Found {len(images)} images, total size: {human_readable_size(total_size)}\")\n",
    "\n",
    "    # Resize and convert images\n",
    "    pbar = tqdm(images, desc=\"Processing images\")\n",
    "    for index, source_path in enumerate(pbar):\n",
    "        new_name = decimal_to_custom_base(index + 1)  # Adjusted counter to be zero-indexed\n",
    "        target_path = thumbnail_dir / f\"{new_name}.jpg\"\n",
    "        \n",
    "        try:\n",
    "            if grayscale:\n",
    "                img = Image.open(source_path).convert('L')\n",
    "            else:\n",
    "                img = Image.open(source_path)\n",
    "            img = img.resize((256, 256), Image.LANCZOS)\n",
    "            img.save(target_path, format='JPEG', quality=85)  # Save in JPEG format\n",
    "            successful_files.add(new_name + '.jpg')\n",
    "        except Exception as e:\n",
    "            pbar.write(f\"Error processing file {source_path}: {e}\")\n",
    "            failed_counter += 1\n",
    "\n",
    "    # Calculate total size of generated thumbnails\n",
    "    thumbnail_size = sum(p.stat().st_size for p in thumbnail_dir.iterdir())\n",
    "    tqdm.write(f\"Processing complete. Successful operations: {len(successful_files)}, Failed operations: {failed_counter}\")\n",
    "    tqdm.write(f\"Total size of thumbnails: {human_readable_size(thumbnail_size)}\")\n",
    "    if total_size > 0:  # Avoid division by zero\n",
    "        percentage = (thumbnail_size / total_size) * 100\n",
    "        tqdm.write(f\"Thumbnails are {percentage:.2f}% the size of the original images.\")"
   ]
  },
  {
   "cell_type": "code",
   "execution_count": 28,
   "metadata": {},
   "outputs": [
    {
     "name": "stdout",
     "output_type": "stream",
     "text": [
      "开始处理...\n"
     ]
    },
    {
     "name": "stderr",
     "output_type": "stream",
     "text": [
      "Collected 931 images, total size: 1.98 GB: 100%|██████████| 931/931 [00:03<00:00, 275.93it/s]   \n"
     ]
    },
    {
     "name": "stdout",
     "output_type": "stream",
     "text": [
      "Found 931 images, total size: 1.98 GB\n"
     ]
    },
    {
     "name": "stderr",
     "output_type": "stream",
     "text": [
      "Processing images: 100%|██████████| 931/931 [07:41<00:00,  2.02it/s]\n"
     ]
    },
    {
     "name": "stdout",
     "output_type": "stream",
     "text": [
      "Processing complete. Successful operations: 931, Failed operations: 0\n",
      "Total size of thumbnails: 10.83 MB\n",
      "Thumbnails are 0.53% the size of the original images.\n"
     ]
    }
   ],
   "source": [
    "target_directory = \"/Volumes/192.168.1.173/pic/今田美樱_939[2123_MB]\"\n",
    "# target_directory = \"/Users/chenweichu/dev/data/test_副本\"\n",
    "\n",
    "tqdm.write(\"开始处理...\")\n",
    "resize(target_directory)"
   ]
  }
 ],
 "metadata": {
  "kernelspec": {
   "display_name": "face-img-mac",
   "language": "python",
   "name": "python3"
  },
  "language_info": {
   "codemirror_mode": {
    "name": "ipython",
    "version": 3
   },
   "file_extension": ".py",
   "mimetype": "text/x-python",
   "name": "python",
   "nbconvert_exporter": "python",
   "pygments_lexer": "ipython3",
   "version": "3.8.19"
  }
 },
 "nbformat": 4,
 "nbformat_minor": 2
}
