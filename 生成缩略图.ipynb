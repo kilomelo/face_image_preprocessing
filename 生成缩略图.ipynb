{
 "cells": [
  {
   "cell_type": "code",
   "execution_count": 3,
   "metadata": {},
   "outputs": [],
   "source": [
    "import os\n",
    "import shutil\n",
    "from pathlib import Path\n",
    "from PIL import Image\n",
    "from tqdm import tqdm\n",
    "import errno\n",
    "import stat\n",
    "\n",
    "def handle_remove_readonly(func, path, exc):\n",
    "    exc_value = exc[1]\n",
    "    if exc_value.errno == errno.ENOENT:\n",
    "        pass  # 文件不存在，忽略\n",
    "    elif exc_value.errno == errno.EACCES:\n",
    "        os.chmod(path, stat.S_IWUSR)  # 修改文件权限\n",
    "        func(path)  # 再次尝试删除操作\n",
    "    else:\n",
    "        raise  # 其他错误，抛出异常\n",
    "\n",
    "def decimal_to_custom_base(n):\n",
    "    \"\"\"将十进制数字转换为使用自定义非混淆字符集的基25字符串。\"\"\"\n",
    "    characters = 'acdefhjkmnpqrtuvwxyz23478'\n",
    "    base = len(characters)\n",
    "    if n == 0:\n",
    "        return characters[0]\n",
    "    result = \"\"\n",
    "    while n > 0:\n",
    "        n, remainder = divmod(n, base)\n",
    "        result = characters[remainder] + result\n",
    "    return result\n",
    "\n",
    "def human_readable_size(size):\n",
    "    \"\"\"将字节转换为更易读的格式。\"\"\"\n",
    "    if size < 1024:\n",
    "        return f\"{size} B\"\n",
    "    elif size < 1024 ** 2:\n",
    "        return f\"{size / 1024:.2f} KB\"\n",
    "    elif size < 1024 ** 3:\n",
    "        return f\"{size / (1024 ** 2):.2f} MB\"\n",
    "    else:\n",
    "        return f\"{size / (1024 ** 3):.2f} GB\"\n",
    "\n",
    "def resize(directory, grayscale=True):\n",
    "    \"\"\"调整目录中所有图像的大小为256x256，转换为灰度，并使用基25编码重命名。\"\"\"\n",
    "    image_extensions = ['.jpg', '.jpeg', '.png', '.gif', '.bmp']\n",
    "    successful_files = set()\n",
    "    failed_counter = 0\n",
    "\n",
    "    target_dir = Path(directory)\n",
    "    thumbnail_dir = target_dir / \"thumbnail\"\n",
    "    mapping_file_path = thumbnail_dir / \"mapping.txt\"\n",
    "\n",
    "    if not target_dir.is_dir():\n",
    "        tqdm.write(f\"目录不存在: {directory}\")\n",
    "        return\n",
    "\n",
    "    if thumbnail_dir.exists():\n",
    "        tqdm.write(f\"删除已存在的缩略图目录: {thumbnail_dir}\")\n",
    "        shutil.rmtree(thumbnail_dir, onerror=handle_remove_readonly)\n",
    "    thumbnail_dir.mkdir(parents=True, exist_ok=True)\n",
    "\n",
    "    total_size = 0\n",
    "    image_paths = []\n",
    "    for root, dirs, files in os.walk(directory):\n",
    "        for name in files:\n",
    "            if any(name.lower().endswith(ext) for ext in image_extensions):\n",
    "                path = Path(root) / name\n",
    "                image_paths.append(path)\n",
    "\n",
    "    progress = tqdm(image_paths, desc=\"正在扫描文件夹\")\n",
    "    images = []\n",
    "    for path in progress:\n",
    "        file_size = path.stat().st_size\n",
    "        total_size += file_size\n",
    "        images.append(path)\n",
    "        progress.set_description(f\"已收集 {len(images)} 张图片, 总大小: {human_readable_size(total_size)}\")\n",
    "\n",
    "    tqdm.write(f\"共找到 {len(images)} 张图片, 总大小: {human_readable_size(total_size)}\")\n",
    "\n",
    "    pbar = tqdm(images, desc=\"处理图片中\")\n",
    "    mapping_lines = []\n",
    "    for index, source_path in enumerate(pbar):\n",
    "        new_name = decimal_to_custom_base(index + 1)  # 基于0的索引\n",
    "        target_path = thumbnail_dir / f\"{new_name}.jpg\"\n",
    "        try:\n",
    "            if grayscale:\n",
    "                img = Image.open(source_path).convert('L')\n",
    "            else:\n",
    "                img = Image.open(source_path)\n",
    "            img = img.resize((256, 256), Image.LANCZOS)\n",
    "            img.save(target_path, format='JPEG', quality=85)\n",
    "            successful_files.add(new_name + '.jpg')\n",
    "            mapping_lines.append(f\"{source_path}*{new_name}\\n\")\n",
    "        except Exception as e:\n",
    "            pbar.write(f\"处理文件错误 {source_path}: {e}\")\n",
    "            failed_counter += 1\n",
    "\n",
    "    thumbnail_size = sum(p.stat().st_size for p in thumbnail_dir.iterdir())\n",
    "    tqdm.write(f\"处理完成。成功操作: {len(successful_files)}, 失败操作: {failed_counter}\")\n",
    "    tqdm.write(f\"缩略图总大小: {human_readable_size(thumbnail_size)}\")\n",
    "    if total_size > 0:\n",
    "        percentage = (thumbnail_size / total_size) * 100\n",
    "        tqdm.write(f\"缩略图占原图的 {percentage:.2f}% 大小。\")\n",
    "\n",
    "    with open(mapping_file_path, 'w') as file:\n",
    "        file.writelines(mapping_lines)"
   ]
  },
  {
   "cell_type": "code",
   "execution_count": 4,
   "metadata": {},
   "outputs": [
    {
     "name": "stdout",
     "output_type": "stream",
     "text": [
      "开始处理...\n",
      "删除已存在的缩略图目录: /Users/chenweichu/dev/data/test_副本/thumbnail\n"
     ]
    },
    {
     "name": "stderr",
     "output_type": "stream",
     "text": [
      "已收集 85 张图片, 总大小: 311.83 MB: 100%|██████████| 85/85 [00:00<00:00, 3443.00it/s]\n"
     ]
    },
    {
     "name": "stdout",
     "output_type": "stream",
     "text": [
      "共找到 85 张图片, 总大小: 311.83 MB\n"
     ]
    },
    {
     "name": "stderr",
     "output_type": "stream",
     "text": [
      "处理图片中: 100%|██████████| 85/85 [00:11<00:00,  7.31it/s]"
     ]
    },
    {
     "name": "stdout",
     "output_type": "stream",
     "text": [
      "处理完成。成功操作: 85, 失败操作: 0\n",
      "缩略图总大小: 1020.35 KB\n",
      "缩略图占原图的 0.32% 大小。\n"
     ]
    },
    {
     "name": "stderr",
     "output_type": "stream",
     "text": [
      "\n"
     ]
    }
   ],
   "source": [
    "# target_directory = \"/Volumes/192.168.1.173/pic/今田美樱_939[2123_MB]\"\n",
    "target_directory = \"/Users/chenweichu/dev/data/test_副本\"\n",
    "\n",
    "tqdm.write(\"开始处理...\")\n",
    "resize(target_directory)"
   ]
  }
 ],
 "metadata": {
  "kernelspec": {
   "display_name": "face-img-mac",
   "language": "python",
   "name": "python3"
  },
  "language_info": {
   "codemirror_mode": {
    "name": "ipython",
    "version": 3
   },
   "file_extension": ".py",
   "mimetype": "text/x-python",
   "name": "python",
   "nbconvert_exporter": "python",
   "pygments_lexer": "ipython3",
   "version": "3.8.19"
  }
 },
 "nbformat": 4,
 "nbformat_minor": 2
}
