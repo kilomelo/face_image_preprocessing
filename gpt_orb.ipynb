{
 "cells": [
  {
   "cell_type": "code",
   "execution_count": 1,
   "metadata": {},
   "outputs": [],
   "source": [
    "import os\n",
    "import cv2\n",
    "import numpy as np\n",
    "from tqdm import tqdm\n",
    "\n",
    "def calculate_feature(image_path):\n",
    "    \"\"\"\n",
    "    计算图像的特征向量。\n",
    "\n",
    "    参数：\n",
    "        image_path (str): 图像文件的路径。\n",
    "\n",
    "    返回：\n",
    "        np.ndarray: 图像的特征向量。\n",
    "    \"\"\"\n",
    "    # 将图像路径转换为Unicode字符串\n",
    "    image_path_unicode = image_path.encode(\"utf-8\").decode(\"utf-8\")\n",
    "    \n",
    "    # 读取图像\n",
    "    img = cv2.imread(image_path_unicode, cv2.IMREAD_GRAYSCALE)\n",
    "    if img is None:\n",
    "        return None\n",
    "\n",
    "    # 提取图像特征\n",
    "    orb = cv2.ORB_create()\n",
    "    keypoints, descriptors = orb.detectAndCompute(img, None)\n",
    "\n",
    "    # 如果没有提取到特征，则返回 None\n",
    "    if descriptors is None:\n",
    "        return None\n",
    "    \n",
    "    # 对特征向量求均值，得到图像的特征向量\n",
    "    feature_vector = np.mean(descriptors, axis=0)\n",
    "    return feature_vector\n",
    "\n",
    "\n",
    "def remove_duplicate_images(image_dir, remove_from_disk=False):\n",
    "    \"\"\"\n",
    "    从给定目录中去除重复的图像文件，并返回唯一图像的路径列表。\n",
    "\n",
    "    参数：\n",
    "        image_dir (str): 包含图像文件的目录路径。\n",
    "        remove_from_disk (bool): 是否从硬盘上删除重复的图像文件，默认为 False。\n",
    "\n",
    "    返回：\n",
    "        list: 唯一图像文件的路径列表。\n",
    "    \"\"\"\n",
    "    # 获取目录中的所有图像文件路径\n",
    "    image_paths = [os.path.join(image_dir, file) for file in os.listdir(image_dir) if file.lower().endswith(('.jpg', '.jpeg', '.png'))]\n",
    "    \n",
    "    # 输出目录中的文件数\n",
    "    print(f\"目录 {image_dir} 中的文件数: {len(image_paths)}\")\n",
    "\n",
    "    # 初始化唯一图像路径列表和已处理的图像特征列表\n",
    "    unique_images = []\n",
    "    processed_features = []\n",
    "\n",
    "    # 遍历图像文件\n",
    "    print(\"开始处理图像...\")\n",
    "    for i, image_path in enumerate(tqdm(image_paths, desc=\"Processing\")):\n",
    "        try:\n",
    "            # 输出序号和图片路径\n",
    "            print(f\"处理第 {i+1} 张图片: {image_path}\")\n",
    "            \n",
    "            # 计算图像的特征向量\n",
    "            feature_vector = calculate_feature(image_path)\n",
    "            \n",
    "            # 如果特征向量为 None，则记录日志并跳过该图像\n",
    "            if feature_vector is None:\n",
    "                log_message = f\"警告: 图像 {image_path} 的特征向量为空，已跳过该图像.\"\n",
    "                print(log_message)\n",
    "                continue\n",
    "            \n",
    "            # 如果特征向量已经存在于已处理的特征列表中，则认为是重复图像\n",
    "            if any(np.allclose(feature_vector, feature) for feature in processed_features):\n",
    "                # 记录日志和输出重复图片信息\n",
    "                log_message = f\"重复图片: {image_path}, 特征值: {feature_vector}\"\n",
    "                print(log_message)\n",
    "                if remove_from_disk:\n",
    "                    # 如果需要删除重复图像，则执行删除操作\n",
    "                    os.remove(image_path)\n",
    "                continue\n",
    "            \n",
    "            # 将图像的特征向量添加到已处理的特征列表中，并将图像路径添加到唯一图像列表中\n",
    "            processed_features.append(feature_vector)\n",
    "            unique_images.append(image_path)\n",
    "        except Exception as e:\n",
    "            # 捕获并输出异常信息\n",
    "            log_message = f\"错误: 处理图像 {image_path} 时出错: {e}\"\n",
    "            print(log_message)\n",
    "    \n",
    "    # 如果唯一图像列表为空，输出提示信息\n",
    "    if not unique_images:\n",
    "        print(\"未找到任何唯一图像.\")\n",
    "    else:\n",
    "        print(f\"共找到 {len(unique_images)} 张唯一图像.\")\n",
    "    \n",
    "    return unique_images\n",
    "\n",
    "# 主方法，用于外部调用\n",
    "def main(image_dir, remove_from_disk=False):\n",
    "    \"\"\"\n",
    "    对图像目录中的图像进行去重。\n",
    "\n",
    "    参数：\n",
    "        image_dir (str): 包含图像的目录路径。\n",
    "        remove_from_disk (bool): 如果为True，则从磁盘中删除重复图像。\n",
    "\n",
    "    返回：\n",
    "        unique_images_list (list): 不重复的图像文件路径列表。\n",
    "    \"\"\"\n",
    "    # 调用去除重复图像的函数\n",
    "    unique_images_list = remove_duplicate_images(image_dir, remove_from_disk)\n",
    "    \n",
    "    # 返回不重复的图像列表\n",
    "    return unique_images_list"
   ]
  },
  {
   "cell_type": "code",
   "execution_count": 2,
   "metadata": {},
   "outputs": [
    {
     "name": "stdout",
     "output_type": "stream",
     "text": [
      "目录 F:\\pic\\zhytest 中的文件数: 49\n",
      "开始处理图像...\n"
     ]
    },
    {
     "name": "stderr",
     "output_type": "stream",
     "text": [
      "Processing:   0%|          | 0/49 [00:00<?, ?it/s]"
     ]
    },
    {
     "name": "stderr",
     "output_type": "stream",
     "text": [
      "Processing:   2%|▏         | 1/49 [00:00<00:07,  6.76it/s]"
     ]
    },
    {
     "name": "stdout",
     "output_type": "stream",
     "text": [
      "处理第 1 张图片: F:\\pic\\zhytest\\_storage_emulated_0_sina_weibo_storage_photoalbum_save_weibo_img-a0d23d3cc2497bf45a3882a168a52c9f.jpg\n",
      "处理第 2 张图片: F:\\pic\\zhytest\\5b2408a2548041ba8b6200e61da64d01.jpg\n"
     ]
    },
    {
     "name": "stderr",
     "output_type": "stream",
     "text": [
      "Processing:   6%|▌         | 3/49 [00:00<00:04, 11.47it/s]"
     ]
    },
    {
     "name": "stdout",
     "output_type": "stream",
     "text": [
      "处理第 3 张图片: F:\\pic\\zhytest\\45dfc99djw1f9bffirye0j21c50w37wi.jpg\n",
      "处理第 4 张图片: F:\\pic\\zhytest\\45dfc99djw1fa2zr8vfvsj22sj3q7kjt.jpg\n"
     ]
    },
    {
     "name": "stderr",
     "output_type": "stream",
     "text": [
      "Processing:  10%|█         | 5/49 [00:00<00:07,  5.88it/s]"
     ]
    },
    {
     "name": "stdout",
     "output_type": "stream",
     "text": [
      "处理第 5 张图片: F:\\pic\\zhytest\\45dfc99djw1fa2zrae3i1j20qo123k04.jpg\n",
      "处理第 6 张图片: F:\\pic\\zhytest\\45dfc99djw1fa2zrgfwtlj22sj3q7x6w.jpg\n"
     ]
    },
    {
     "name": "stderr",
     "output_type": "stream",
     "text": [
      "Processing:  16%|█▋        | 8/49 [00:01<00:06,  6.27it/s]"
     ]
    },
    {
     "name": "stdout",
     "output_type": "stream",
     "text": [
      "处理第 7 张图片: F:\\pic\\zhytest\\45dfc99djw1fa2zrino33j20qo0zmguc.jpg\n",
      "处理第 8 张图片: F:\\pic\\zhytest\\45dfc99dt93235430eb34.jpg\n",
      "处理第 9 张图片: F:\\pic\\zhytest\\205641w3toky6qkwmmccym.jpg\n"
     ]
    },
    {
     "name": "stderr",
     "output_type": "stream",
     "text": [
      "Processing:  20%|██        | 10/49 [00:01<00:05,  7.04it/s]"
     ]
    },
    {
     "name": "stdout",
     "output_type": "stream",
     "text": [
      "处理第 10 张图片: F:\\pic\\zhytest\\C05152FD7A241EF05B5FEB9204FAA9A377985724.jpg\n",
      "处理第 11 张图片: F:\\pic\\zhytest\\d6513664ff0746368b294bb3d2165b72.jpg\n",
      "处理第 12 张图片: F:\\pic\\zhytest\\kristy204.jpg\n"
     ]
    },
    {
     "name": "stderr",
     "output_type": "stream",
     "text": [
      "Processing:  24%|██▍       | 12/49 [00:01<00:05,  6.21it/s]"
     ]
    },
    {
     "name": "stdout",
     "output_type": "stream",
     "text": [
      "处理第 13 张图片: F:\\pic\\zhytest\\kristy207.jpg\n"
     ]
    },
    {
     "name": "stderr",
     "output_type": "stream",
     "text": [
      "Processing:  27%|██▋       | 13/49 [00:02<00:07,  5.13it/s]"
     ]
    },
    {
     "name": "stdout",
     "output_type": "stream",
     "text": [
      "处理第 14 张图片: F:\\pic\\zhytest\\www.zhycn.com@张含韵新歌《照顾自己》封面.jpg\n",
      "警告: 图像 F:\\pic\\zhytest\\www.zhycn.com@张含韵新歌《照顾自己》封面.jpg 的特征向量为空，已跳过该图像.\n",
      "处理第 15 张图片: F:\\pic\\zhytest\\张含韵 (39).jpg\n",
      "警告: 图像 F:\\pic\\zhytest\\张含韵 (39).jpg 的特征向量为空，已跳过该图像.\n",
      "处理第 16 张图片: F:\\pic\\zhytest\\张含韵 (912).jpg\n",
      "警告: 图像 F:\\pic\\zhytest\\张含韵 (912).jpg 的特征向量为空，已跳过该图像.\n",
      "处理第 17 张图片: F:\\pic\\zhytest\\张含韵 (901).jpg\n",
      "警告: 图像 F:\\pic\\zhytest\\张含韵 (901).jpg 的特征向量为空，已跳过该图像.\n",
      "处理第 18 张图片: F:\\pic\\zhytest\\张含韵 (44).jpg\n",
      "警告: 图像 F:\\pic\\zhytest\\张含韵 (44).jpg 的特征向量为空，已跳过该图像.\n",
      "处理第 19 张图片: F:\\pic\\zhytest\\张含韵 (30).jpg\n",
      "警告: 图像 F:\\pic\\zhytest\\张含韵 (30).jpg 的特征向量为空，已跳过该图像.\n",
      "处理第 20 张图片: F:\\pic\\zhytest\\张含韵 (33).jpg\n",
      "警告: 图像 F:\\pic\\zhytest\\张含韵 (33).jpg 的特征向量为空，已跳过该图像.\n",
      "处理第 21 张图片: F:\\pic\\zhytest\\张含韵 (25).jpg\n",
      "警告: 图像 F:\\pic\\zhytest\\张含韵 (25).jpg 的特征向量为空，已跳过该图像.\n",
      "处理第 22 张图片: F:\\pic\\zhytest\\张含韵 (24).jpg\n",
      "警告: 图像 F:\\pic\\zhytest\\张含韵 (24).jpg 的特征向量为空，已跳过该图像.\n",
      "处理第 23 张图片: F:\\pic\\zhytest\\张含韵 (211).jpg\n",
      "警告: 图像 F:\\pic\\zhytest\\张含韵 (211).jpg 的特征向量为空，已跳过该图像.\n",
      "处理第 24 张图片: F:\\pic\\zhytest\\张含韵 (188).jpg\n",
      "警告: 图像 F:\\pic\\zhytest\\张含韵 (188).jpg 的特征向量为空，已跳过该图像.\n",
      "处理第 25 张图片: F:\\pic\\zhytest\\张含韵 (183).jpg\n",
      "警告: 图像 F:\\pic\\zhytest\\张含韵 (183).jpg 的特征向量为空，已跳过该图像.\n",
      "处理第 26 张图片: F:\\pic\\zhytest\\张含韵 (154).jpg\n",
      "警告: 图像 F:\\pic\\zhytest\\张含韵 (154).jpg 的特征向量为空，已跳过该图像.\n",
      "处理第 27 张图片: F:\\pic\\zhytest\\张含韵 (147).jpg\n",
      "警告: 图像 F:\\pic\\zhytest\\张含韵 (147).jpg 的特征向量为空，已跳过该图像.\n",
      "处理第 28 张图片: F:\\pic\\zhytest\\张含韵 (141).jpg\n",
      "警告: 图像 F:\\pic\\zhytest\\张含韵 (141).jpg 的特征向量为空，已跳过该图像.\n",
      "处理第 29 张图片: F:\\pic\\zhytest\\张含韵 (138).jpg\n",
      "警告: 图像 F:\\pic\\zhytest\\张含韵 (138).jpg 的特征向量为空，已跳过该图像.\n",
      "处理第 30 张图片: F:\\pic\\zhytest\\张含韵 (121).jpg\n",
      "警告: 图像 F:\\pic\\zhytest\\张含韵 (121).jpg 的特征向量为空，已跳过该图像.\n",
      "处理第 31 张图片: F:\\pic\\zhytest\\_storage_emulated_0_sina_weibo_storage_photoalbum_save_weibo_img-f6aa6a2365c1cfd58dc607f2325ddf68.jpg\n"
     ]
    },
    {
     "name": "stderr",
     "output_type": "stream",
     "text": [
      "Processing:  63%|██████▎   | 31/49 [00:02<00:00, 22.26it/s]"
     ]
    },
    {
     "name": "stdout",
     "output_type": "stream",
     "text": [
      "处理第 32 张图片: F:\\pic\\zhytest\\_storage_emulated_0_sina_weibo_storage_photoalbum_save_weibo_img-e4a19315e0d0834a89fc94bb11ea422f.jpg\n",
      "处理第 33 张图片: F:\\pic\\zhytest\\_storage_emulated_0_sina_weibo_storage_photoalbum_save_weibo_img-ccfac577ec08d7c99690663017ae3f2e.jpg\n"
     ]
    },
    {
     "name": "stderr",
     "output_type": "stream",
     "text": [
      "Processing:  69%|██████▉   | 34/49 [00:02<00:00, 16.56it/s]"
     ]
    },
    {
     "name": "stdout",
     "output_type": "stream",
     "text": [
      "处理第 34 张图片: F:\\pic\\zhytest\\_storage_emulated_0_sina_weibo_storage_photoalbum_save_weibo_img-611a93fd620fa5229def9ce73f0355b3.jpg\n",
      "处理第 35 张图片: F:\\pic\\zhytest\\_storage_emulated_0_sina_weibo_storage_photoalbum_save_weibo_img-68411e4f860b075bc294fbd04306823a.jpg\n"
     ]
    },
    {
     "name": "stderr",
     "output_type": "stream",
     "text": [
      "Processing:  73%|███████▎  | 36/49 [00:03<00:00, 14.75it/s]"
     ]
    },
    {
     "name": "stdout",
     "output_type": "stream",
     "text": [
      "处理第 36 张图片: F:\\pic\\zhytest\\_storage_emulated_0_sina_weibo_storage_photoalbum_save_weibo_img-2673fb9d47f847c92853dd9173b8840f.jpg\n",
      "处理第 37 张图片: F:\\pic\\zhytest\\_storage_emulated_0_sina_weibo_storage_photoalbum_save_weibo_img-20b66e157e59cc27a847ab1f93ccfc1f.jpg\n"
     ]
    },
    {
     "name": "stderr",
     "output_type": "stream",
     "text": [
      "Processing:  84%|████████▎ | 41/49 [00:03<00:00, 14.46it/s]"
     ]
    },
    {
     "name": "stdout",
     "output_type": "stream",
     "text": [
      "处理第 38 张图片: F:\\pic\\zhytest\\t0190f25682b26454cc.jpg\n",
      "处理第 39 张图片: F:\\pic\\zhytest\\d833c895d143ad4b1800508082025aafa40f0647.jpg\n",
      "处理第 40 张图片: F:\\pic\\zhytest\\e0951f8ccda0475c90ec647f63168330_th.jpg\n",
      "处理第 41 张图片: F:\\pic\\zhytest\\ChMlWV1omwOINrgxAAeenSAYeGAAAM4mwKpF7YAB561326.jpg\n",
      "处理第 42 张图片: F:\\pic\\zhytest\\d043ad4bd11373f0492579dfa40f4bfbfbed0453.jpg\n",
      "处理第 43 张图片: F:\\pic\\zhytest\\ChMlWV1omviID9jkAAsUzTtZRFUAAM4mwJXbuQACxTl364.jpg\n"
     ]
    },
    {
     "name": "stderr",
     "output_type": "stream",
     "text": [
      "Processing:  92%|█████████▏| 45/49 [00:03<00:00, 16.88it/s]"
     ]
    },
    {
     "name": "stdout",
     "output_type": "stream",
     "text": [
      "处理第 44 张图片: F:\\pic\\zhytest\\cf1b9d16fdfaaf519ee797ff8c5494eef01f7a6d.jpg\n",
      "处理第 45 张图片: F:\\pic\\zhytest\\ChMlWl1omuyIf0S1AAlctLjmfdIAAM4mwH7q1YACVzM700.jpg\n",
      "处理第 46 张图片: F:\\pic\\zhytest\\72666D36E7A45ECF5D97E3E2A94981A5.jpg\n"
     ]
    },
    {
     "name": "stderr",
     "output_type": "stream",
     "text": [
      "Processing:  96%|█████████▌| 47/49 [00:04<00:00, 13.24it/s]"
     ]
    },
    {
     "name": "stdout",
     "output_type": "stream",
     "text": [
      "处理第 47 张图片: F:\\pic\\zhytest\\551433992CB7682A291A666534355A22.jpg\n",
      "处理第 48 张图片: F:\\pic\\zhytest\\69192ab4jw1e8yvrrpz7oj20tm18gwkf.jpg\n",
      "处理第 49 张图片: F:\\pic\\zhytest\\6244181ejw1ebo5swe4m1j218g0szdqj.jpg\n"
     ]
    },
    {
     "name": "stderr",
     "output_type": "stream",
     "text": [
      "Processing: 100%|██████████| 49/49 [00:04<00:00, 11.99it/s]"
     ]
    },
    {
     "name": "stdout",
     "output_type": "stream",
     "text": [
      "共找到 32 张唯一图像.\n"
     ]
    },
    {
     "name": "stderr",
     "output_type": "stream",
     "text": [
      "\n"
     ]
    }
   ],
   "source": [
    "# 调用函数并接收返回的去重后文件列表\n",
    "unique_images_list = main(\"F:\\\\pic\\\\zhytest\", False)"
   ]
  }
 ],
 "metadata": {
  "kernelspec": {
   "display_name": "face-img",
   "language": "python",
   "name": "python3"
  },
  "language_info": {
   "codemirror_mode": {
    "name": "ipython",
    "version": 3
   },
   "file_extension": ".py",
   "mimetype": "text/x-python",
   "name": "python",
   "nbconvert_exporter": "python",
   "pygments_lexer": "ipython3",
   "version": "3.8.19"
  }
 },
 "nbformat": 4,
 "nbformat_minor": 2
}
